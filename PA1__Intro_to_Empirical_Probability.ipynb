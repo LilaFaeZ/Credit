{
  "nbformat": 4,
  "nbformat_minor": 0,
  "metadata": {
    "colab": {
      "provenance": [],
      "include_colab_link": true
    },
    "kernelspec": {
      "name": "python3",
      "display_name": "Python 3"
    },
    "language_info": {
      "name": "python"
    }
  },
  "cells": [
    {
      "cell_type": "markdown",
      "metadata": {
        "id": "view-in-github",
        "colab_type": "text"
      },
      "source": [
        "<a href=\"https://colab.research.google.com/github/LilaFaeZ/Credit/blob/main/PA1__Intro_to_Empirical_Probability.ipynb\" target=\"_parent\"><img src=\"https://colab.research.google.com/assets/colab-badge.svg\" alt=\"Open In Colab\"/></a>"
      ]
    },
    {
      "cell_type": "markdown",
      "source": [
        "## Theoretical vs. Empirical Probability\n",
        "\n",
        "As per [LeBlanc, David C. \"Statistics: concepts and applications for science.\" (2004)](https://https://www.google.com/books/edition/Statistics/gtawVU0oZFMC?hl=en&gbpv=1&dq=empirical+and+theoretical+probability&pg=PA68&printsec=frontcover), theoretical probability and empirical probability are explained as follows:\n",
        "\n",
        "*   **Theoretical Probability**: Theoretical probabilities are calculated by applying rules of probability and making certain assumptions about the nature of random phenomena that we study.\n",
        "> *Example*: If we assume that a die is fair, each of its six faces are equally likely to appear in any given roll. Thus, the probability that a roll results in an odd number is $1/2$.\n",
        "\n",
        "*   **Empirical Probability**: Empirical probabilities are calculated by observing many repetitions of a random experiment and determining the relative frequency of all distinct outcomes in the sample space. Thus,\n",
        "\n",
        "  Empirical probability of an event $A$ = $\\frac{\\text{number of occurrences of the event A}}{\\text{total number of observations}}$\n",
        "  \n",
        "  > Example: To calculate the probability of the event that an odd-numbered face appears on the die, we would roll the die many times and find the proportion of the number of times odd-numbered faces appeared and the number of total rolls.\n",
        "\n",
        "In this exercise, we are going to explore the use of programmatic simulations to derive empirical probabilities. Simulation allows us to imitate a real-world process or system over time using 'models' that represent the system's key characteristics or behaviors (reference: [Wikipedia](https://https://en.wikipedia.org/wiki/Simulation)).\n"
      ],
      "metadata": {
        "id": "HEq_wrur_zsb"
      }
    },
    {
      "cell_type": "markdown",
      "source": [
        "## Simulating coin tosses\n",
        "\n",
        "Suppose that we want to find the probability of the event (say $E$) that exactly two heads appear in three consecutive tosses of a **fair** coin. The theoretical probability of this event can be calculated by writing out all outcomes in the sample space and the event $E$.\n",
        "\n",
        "$S=\\{HHH, HHT, HTH, HTT, THH, THT, TTH, TTT\\}$\n",
        "\n",
        "$E=\\{HHT, HTH, THH\\}$\n",
        "\n",
        "$P(E)=\\frac{|E|}{|S|}=\\frac{3}{8}=0.375$\n",
        "\n",
        "Now, let's run a simulation code to find the probability of the same event. Since we are using a computer, we will use the 'model' of a fair coin to substitute real coin tosses. The code in the cell below shows you how to simulate a **single** coin toss. Run the cell multiple times and observe how the flip results in H sometimes and T at other times.\n"
      ],
      "metadata": {
        "id": "-P99D0BQuoGV"
      }
    },
    {
      "cell_type": "code",
      "source": [
        "# import the necessary libraries\n",
        "import numpy as np\n",
        "\n",
        "# create a list to contain coin flip outcomes\n",
        "coin_flip_outcomes = [\"H\", \"T\"]\n",
        "\n",
        "# simulating a single coin flip\n",
        "# the np.random.choice function randomly chooses an element from the list given as input to the function\n",
        "simulated_coin_flip = np.random.choice(coin_flip_outcomes)\n",
        "print(simulated_coin_flip)"
      ],
      "metadata": {
        "id": "pW-Uewzzyx1z"
      },
      "execution_count": null,
      "outputs": []
    },
    {
      "cell_type": "markdown",
      "source": [
        "Now, let's simulate three tosses of the coin to see if we get exactly 2 heads. Run the cell below multiple times to note the result of the three coin tosses and whether the event E occurred."
      ],
      "metadata": {
        "id": "OdNhjQFi0QVP"
      }
    },
    {
      "cell_type": "code",
      "source": [
        "# initialize number of heads observed to 0\n",
        "num_heads_observed = 0\n",
        "\n",
        "# simulate tossing a coin three times\n",
        "for j in range(3):\n",
        "    simulated_coin_flip = np.random.choice(coin_flip_outcomes)\n",
        "    print(simulated_coin_flip)\n",
        "    # if coin toss results in H, increment count of observed heads\n",
        "    if simulated_coin_flip == \"H\":\n",
        "        num_heads_observed = num_heads_observed + 1\n",
        "\n",
        "# check if exactly two heads were observed\n",
        "if num_heads_observed == 2:\n",
        "    print(\"Exactly 2 heads observed: event E occured.\")\n",
        "else:\n",
        "    print(\"Event E did not occur.\")"
      ],
      "metadata": {
        "id": "mdlTLDur0Ph3"
      },
      "execution_count": null,
      "outputs": []
    },
    {
      "cell_type": "markdown",
      "source": [
        "Finally, it's time to put together all we have learnt to programmatically estimate the probability of event $E$. When we ran the above cell, the event $E$ occurred sometimes and did not occur at other times. According to the definition established in the first section of this notebook, we can estimate the empirical probability of $E$ by repeating our trial (three toss simulation) many times and finding the proportion of times when $E$ occurred. Run and observe the following code to see how this can be done in Python."
      ],
      "metadata": {
        "id": "6fsM1DW2zgSS"
      }
    },
    {
      "cell_type": "code",
      "source": [
        "# set number of trials to desired number (e.g. 100, 500, 1000, 5000, 10000)\n",
        "num_trials = 100\n",
        "\n",
        "# create a variable to store the number of times E occurs\n",
        "num_E_observed = 0\n",
        "\n",
        "# Simulate many (num_trials) trials - each trial consists of a simulation of three coin tosses\n",
        "for i in range(num_trials):\n",
        "    # initialize number of heads observed to 0\n",
        "    num_heads_observed = 0\n",
        "    # simulate tossing a coin three times\n",
        "    for j in range(3):\n",
        "        simulated_coin_flip = np.random.choice(coin_flip_outcomes)\n",
        "        # if coin toss results in H, increment count of observed heads\n",
        "        if simulated_coin_flip == \"H\":\n",
        "            num_heads_observed = num_heads_observed + 1\n",
        "    # check if exactly two heads were observed\n",
        "    if num_heads_observed == 2:\n",
        "        num_E_observed = num_E_observed + 1\n",
        "\n",
        "empirical_prob_of_E = num_E_observed/num_trials\n",
        "print(empirical_prob_of_E)"
      ],
      "metadata": {
        "id": "C81lGcN61_sd"
      },
      "execution_count": null,
      "outputs": []
    },
    {
      "cell_type": "markdown",
      "source": [
        "Notice that the empirical probability is indeed close to the theoretical probability we calculated before we started the simulation! Now, gradually increase the number of trials from 100 to 10000 - e.g. 100, 500, 1000, 5000, 10000.\n",
        "\n",
        "**Food for thought**: As you increase the number of trials, is the empirical probability more likely or less likely to give you a good estimate of the theoretical probability?\n",
        "\n",
        "In the upcoming exercises and lectures, we will study 'The Law of Large Numbers' which addresses this question.\n",
        "\n",
        "The next cell shows how the code in the previous cell could be made more concise by using certain Python-specific constructs."
      ],
      "metadata": {
        "id": "-cY6j_P35sw3"
      }
    },
    {
      "cell_type": "code",
      "source": [
        "# set number of trials to desired number (e.g. 100, 500, 1000, 5000, 10000)\n",
        "num_trials = 1000\n",
        "\n",
        "# create a variable to store the number of times E occurs\n",
        "num_E_observed = 0\n",
        "\n",
        "# Simulate many (num_trials) trials - each trial consists of a simulation of three coin tosses\n",
        "for i in range(num_trials):\n",
        "    # initialize number of heads observed to 0\n",
        "    three_coin_flips = [np.random.choice(coin_flip_outcomes) for j in range(3)]\n",
        "    num_heads_observed = three_coin_flips.count(\"H\")\n",
        "    # check if exactly two heads were observed\n",
        "    if num_heads_observed == 2:\n",
        "        num_E_observed += 1\n",
        "\n",
        "empirical_prob_of_E = num_E_observed/num_trials\n",
        "print(empirical_prob_of_E)"
      ],
      "metadata": {
        "id": "YeTaQwJULmb4"
      },
      "execution_count": null,
      "outputs": []
    },
    {
      "cell_type": "markdown",
      "source": [
        "## Exercise: Simulating die rolls\n",
        "\n",
        "Suppose we want to find the probability of the event (say $D$) that exactly 1 out of 3 consecutive die rolls result in an outcome less than or equal to 4.\n",
        "\n",
        "**Food for thought**: What is the theoretical probability of event D?\n",
        "\n",
        "Let's start out by simulating a **single die roll**. Fill in the ellipses (...) below and complete the code. Run the cell multiple times to observe whether the output of the code aligns with your expectation of a single die roll."
      ],
      "metadata": {
        "id": "BnfWBFyf8iJy"
      }
    },
    {
      "cell_type": "code",
      "source": [
        "# import the necessary libraries\n",
        "import numpy as np\n",
        "\n",
        "# create a list to contain die roll outcomes\n",
        "die_roll_outcomes = ...\n",
        "\n",
        "# simulating a single die roll\n",
        "# which function can be used to randomly choose an element from the input list given to the function??\n",
        "simulated_die_roll = ...\n",
        "print(simulated_die_roll)"
      ],
      "metadata": {
        "id": "Tjwz3r_y9VDT"
      },
      "execution_count": null,
      "outputs": []
    },
    {
      "cell_type": "markdown",
      "source": [
        "Now, let's simulate a series of 3 consecutive die rolls and note whether there is exactly 1 die roll with a value less than or equal to 4. Run this cell too multiple times to observe the outputs of a few trials."
      ],
      "metadata": {
        "id": "XSfpzBVI94Fc"
      }
    },
    {
      "cell_type": "code",
      "source": [
        "# initialize the count of die rolls with value less than or equal to 4\n",
        "num_rolls_leq_4 = ...\n",
        "\n",
        "# simulate rolling a die three times\n",
        "for j in range(...):\n",
        "    simulated_die_roll = np.random.choice(...)\n",
        "    print(simulated_die_roll)\n",
        "    # if die roll results in a value less than or equal to 4, increment count of observed rolls with desired value\n",
        "    if simulated_die_roll <= 4:\n",
        "        num_rolls_leq_4 = ...\n",
        "\n",
        "# check if exactly 1 die roll resulted in a value less than or equal to 4\n",
        "if num_rolls_leq_4 ...:\n",
        "    print(\"Event D occurred - exactly 1 die roll resulted in a value less than or equal to 4.\")\n",
        "else:\n",
        "    print(\"Event D did not occur.\")"
      ],
      "metadata": {
        "id": "_RnjbJmw-JX4"
      },
      "execution_count": null,
      "outputs": []
    },
    {
      "cell_type": "markdown",
      "source": [
        "Finally, let's write code to estimate the empirical probability of the event D. Let's simulate 1000 trials of 3 consecutive die rolls and observe the proportion of times D occurs."
      ],
      "metadata": {
        "id": "imjEfEgy_Kk0"
      }
    },
    {
      "cell_type": "code",
      "source": [
        "# set number of trials\n",
        "num_trials = 1000\n",
        "\n",
        "# create a variable to store the number of times D occurs\n",
        "num_D_observed = ...\n",
        "\n",
        "# Simulate many (num_trials) trials - each trial consists of a simulation of three coin tosses\n",
        "for i in range(num_trials):\n",
        "    # initialize the count of die rolls with value less than or equal to 4\n",
        "    num_rolls_leq_4 = 0\n",
        "    # simulate rolling a die three times\n",
        "    for j in range(...):\n",
        "        simulated_die_roll = np.random.choice(...)\n",
        "        # increment count of outcomes less than or equal to 4 based on appropriate condition\n",
        "        if simulated_die_roll ...:\n",
        "            ...\n",
        "    # check if exactly 1 die roll with value less than or equal to 4 was observed\n",
        "    if num_rolls_leq_4 == 1:\n",
        "        num_D_observed = ...\n",
        "\n",
        "empirical_prob_of_D = ...\n",
        "print(empirical_prob_of_D)"
      ],
      "metadata": {
        "id": "mqmk9V_f_dab"
      },
      "execution_count": null,
      "outputs": []
    },
    {
      "cell_type": "markdown",
      "source": [
        "**Food for thought**: Does the empirical probability of $D$ approximate its theoretical probability?"
      ],
      "metadata": {
        "id": "Gh7riZmyB-CQ"
      }
    },
    {
      "cell_type": "markdown",
      "source": [
        "## Wait, but what about biased coins and dies?\n",
        "\n",
        "It turns out that this is very easy in Python. Simply add an extra parameter $p$ when calling the random.choice function. See example in the code cell below to see how we can simulate a single toss of a biased coin with a probability of 0.7 for heads and 0.3 for tails (refer to the documentation [here](https://numpy.org/doc/stable/reference/random/generated/numpy.random.choice.html) for details)."
      ],
      "metadata": {
        "id": "TOjJVGn6gl_l"
      }
    },
    {
      "cell_type": "code",
      "source": [
        "# import the necessary libraries\n",
        "import numpy as np\n",
        "\n",
        "# create a list to contain coin flip outcomes\n",
        "coin_flip_outcomes = [\"H\", \"T\"]\n",
        "\n",
        "# simulating a single coin flip\n",
        "# the np.random.choice function randomly chooses an element from the list given as input to the function\n",
        "simulated_coin_flip = np.random.choice(coin_flip_outcomes, p = [0.7, 0.3])\n",
        "print(simulated_coin_flip)"
      ],
      "metadata": {
        "id": "jrynQkG1yUCY"
      },
      "execution_count": null,
      "outputs": []
    },
    {
      "cell_type": "markdown",
      "source": [
        "Let's see what happens when you do this 1000 times."
      ],
      "metadata": {
        "id": "ujfESpjayRf6"
      }
    },
    {
      "cell_type": "code",
      "source": [
        "coin_tosses = []\n",
        "for j in range(1000):\n",
        "    simulated_coin_flip = np.random.choice(coin_flip_outcomes, p = [0.7, 0.3])\n",
        "    coin_tosses.append(simulated_coin_flip)\n",
        "\n",
        "print(coin_tosses.count('H'))"
      ],
      "metadata": {
        "id": "1qzp89yXyXea"
      },
      "execution_count": null,
      "outputs": []
    }
  ]
}